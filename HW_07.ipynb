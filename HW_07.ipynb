{
 "cells": [
  {
   "cell_type": "markdown",
   "metadata": {},
   "source": [
    "    I used Euler's theorem as the divide and conquer method. I used a function GDF(a,b) and here I implemented \n",
    "    the Euler's theorem. I pass the two numbers in this function as arguments. The two input numbers are taken from \n",
    "    the user."
   ]
  },
  {
   "cell_type": "code",
   "execution_count": 15,
   "metadata": {},
   "outputs": [
    {
     "name": "stdout",
     "output_type": "stream",
     "text": [
      "Please Give the Large Number 100\n",
      "Please Give the Small Number 3\n",
      "Greatest Common Factor of the two number is: 1\n"
     ]
    }
   ],
   "source": [
    "def GDF(a,b):\n",
    "    remainder =True\n",
    "    if b>a:\n",
    "        temp =a\n",
    "        a=b\n",
    "        b=temp\n",
    "    while remainder !=0: \n",
    "        gcd =b\n",
    "        remainder = a%b\n",
    "        a=b\n",
    "        b=remainder\n",
    "    return gcd\n",
    "\n",
    "def main():\n",
    "    a = int(input('Please Give the Large Number '))\n",
    "    b = int(input('Please Give the Small Number '))\n",
    "    gd =GDF(a,b)\n",
    "    print('Greatest Common Factor of the two number is: '+str(gd))\n",
    "    \n",
    "if __name__ == '__main__':\n",
    "    main()"
   ]
  }
 ],
 "metadata": {
  "kernelspec": {
   "display_name": "Python 3",
   "language": "python",
   "name": "python3"
  },
  "language_info": {
   "codemirror_mode": {
    "name": "ipython",
    "version": 3
   },
   "file_extension": ".py",
   "mimetype": "text/x-python",
   "name": "python",
   "nbconvert_exporter": "python",
   "pygments_lexer": "ipython3",
   "version": "3.7.3"
  }
 },
 "nbformat": 4,
 "nbformat_minor": 2
}
