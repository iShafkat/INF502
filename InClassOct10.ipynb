{
 "cells": [
  {
   "cell_type": "markdown",
   "metadata": {},
   "source": [
    "Shafkat Islam\n",
    "In Class Assignment (Oct 10,2019)"
   ]
  },
  {
   "cell_type": "code",
   "execution_count": 268,
   "metadata": {},
   "outputs": [
    {
     "name": "stdout",
     "output_type": "stream",
     "text": [
      "Movie: Kal Ho Na Ho\t\t\tYear: 2003\n",
      "Genre: Emotion,Drama\n",
      "List of actors:\n",
      "\tShahrukh\n",
      "\tPriti\n"
     ]
    }
   ],
   "source": [
    "class movie:\n",
    "    count, flag, genre, actors, review, Year, title =0, False, [], [], \"\", \"\", \"\"\n",
    "    def __init__(self, title, Year):\n",
    "        self.title =title\n",
    "        self.Year =Year \n",
    "    def increase_counter(self,watch):\n",
    "        self.count =self.count+1\n",
    "    def review(self, review):\n",
    "        self.review =review\n",
    "    def movie_borrow(self, borrower_name):\n",
    "        self.borrower_name =borrower_name\n",
    "        self.flag =True\n",
    "    def movie_return(self):\n",
    "        self.borrower_name =\"\"\n",
    "        self.flag =False\n",
    "    def set_genre(self, genre):\n",
    "        for char in genre:\n",
    "            self.genre.append(char)\n",
    "    def set_actors(self, actors):\n",
    "        for m in actors:\n",
    "            self.actors.append(m)\n",
    "            \n",
    "    def output(self):\n",
    "        print(\"Movie: \" + self.title + \"\\t\\t\\t\" + \"Year: \" + str(self.Year))\n",
    "        print(\"Genre: \" + \",\".join(self.genre))\n",
    "        print(\"List of actors:\")\n",
    "        print(\"\\t\" + \"\\n\\t\".join((a.name for a in self.actors)))\n",
    "\n",
    "class Actor:\n",
    "    name, date_of_birth, nationality  = \"\", \"\", \"\"\n",
    "    \n",
    "    def __init__(self,name,date,nationality):  \n",
    "        self.name = name\n",
    "        self.date_of_birth = date\n",
    "        self.nationality = nationality\n",
    "    \n",
    "movie_1 = movie(\"Kal Ho Na Ho\", 2003)\n",
    "movie_1.set_genre([\"Emotion\", \"Drama\"])\n",
    "actor1 = Actor(\"Shahrukh\", \"January\",\"indian\")\n",
    "actor2 = Actor(\"Priti\", \"February\", \"indian\")\n",
    "movie_1.set_actors([actor1, actor2])\n",
    "movie_1.review('Good one')\n",
    "movie_1.output()\n",
    "\n",
    "   "
   ]
  },
  {
   "cell_type": "code",
   "execution_count": null,
   "metadata": {},
   "outputs": [],
   "source": []
  }
 ],
 "metadata": {
  "kernelspec": {
   "display_name": "Python 3",
   "language": "python",
   "name": "python3"
  },
  "language_info": {
   "codemirror_mode": {
    "name": "ipython",
    "version": 3
   },
   "file_extension": ".py",
   "mimetype": "text/x-python",
   "name": "python",
   "nbconvert_exporter": "python",
   "pygments_lexer": "ipython3",
   "version": "3.7.3"
  }
 },
 "nbformat": 4,
 "nbformat_minor": 2
}
