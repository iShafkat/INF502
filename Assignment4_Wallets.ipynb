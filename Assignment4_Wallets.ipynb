{
 "cells": [
  {
   "cell_type": "markdown",
   "metadata": {},
   "source": [
    "Assignment4_Wallets:\n",
    "At the beginning, declared an empty list \"balance\".  The for loop is used to give five inputs and append them in the balance. The 'max', 'min' and 'sum' commands are used to find the maximum, minimum and summation of the list called balance."
   ]
  },
  {
   "cell_type": "code",
   "execution_count": 2,
   "metadata": {},
   "outputs": [
    {
     "name": "stdout",
     "output_type": "stream",
     "text": [
      "Please provide the balance of 5 wallets\n",
      "2\n",
      "3\n",
      "4\n",
      "5\n",
      "6\n",
      "The  fattest wallet has 6 $ value in it\n",
      "The skinniest wallet has 2 $ value in it\n",
      "All together, these wallets hav 20 $ value in them\n",
      "All together, the total value of these wallets is worth 200 dimes\n"
     ]
    }
   ],
   "source": [
    "def main():\n",
    "    print(\"Please provide the balance of 5 wallets\")\n",
    "    balance =[]\n",
    "    for i in range(5):\n",
    "        value =int(input())\n",
    "        balance.append(value)\n",
    "    print(\"The  fattest wallet has \" + str(max(balance)) +\" $ value in it\")\n",
    "    print(\"The skinniest wallet has \"+ str(min(balance)) +\" $ value in it\")\n",
    "    print(\"All together, these wallets hav \"+ str(sum(balance))+\" $ value in them\")\n",
    "    print(\"All together, the total value of these wallets is worth \"+ str(sum(balance)*10)+\" dimes\" )\n",
    "if __name__== \"__main__\":\n",
    "  main()\n"
   ]
  },
  {
   "cell_type": "code",
   "execution_count": null,
   "metadata": {},
   "outputs": [],
   "source": []
  }
 ],
 "metadata": {
  "kernelspec": {
   "display_name": "Python 3",
   "language": "python",
   "name": "python3"
  },
  "language_info": {
   "codemirror_mode": {
    "name": "ipython",
    "version": 3
   },
   "file_extension": ".py",
   "mimetype": "text/x-python",
   "name": "python",
   "nbconvert_exporter": "python",
   "pygments_lexer": "ipython3",
   "version": "3.7.3"
  }
 },
 "nbformat": 4,
 "nbformat_minor": 2
}
